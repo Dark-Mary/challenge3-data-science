{
  "nbformat": 4,
  "nbformat_minor": 0,
  "metadata": {
    "colab": {
      "provenance": [],
      "authorship_tag": "ABX9TyOIpbcaU28G0xq2Eq+RIipX",
      "include_colab_link": true
    },
    "kernelspec": {
      "name": "python3",
      "display_name": "Python 3"
    },
    "language_info": {
      "name": "python"
    }
  },
  "cells": [
    {
      "cell_type": "markdown",
      "metadata": {
        "id": "view-in-github",
        "colab_type": "text"
      },
      "source": [
        "<a href=\"https://colab.research.google.com/github/Dark-Mary/challenge3-data-science/blob/main/TELECOMX_PT2.ipynb\" target=\"_parent\"><img src=\"https://colab.research.google.com/assets/colab-badge.svg\" alt=\"Open In Colab\"/></a>"
      ]
    },
    {
      "cell_type": "markdown",
      "source": [
        "# 🚀 TELECOM X- PT2 / Prevendo Cancelamento\n",
        "\n",
        "🎯 **Objetivo Principal**\n",
        "\n",
        "Criar modelos que consigam identificar quais clientes têm maior risco de cancelar seus serviços, para que a empresa possa agir antes que isso aconteça.\n",
        "\n",
        "🔍 **O que será feito:**\n",
        "\n",
        "✅ Preparação dos dados para análise, com limpeza, transformação e normalização.\n",
        "\n",
        "✅ Exploração das relações entre as variáveis para escolher as mais relevantes.\n",
        "\n",
        "✅ Treinamento de pelo menos dois modelos de machine learning para prever cancelamento.\n",
        "\n",
        "✅ Avaliação detalhada do desempenho dos modelos usando métricas específicas.\n",
        "\n",
        "✅ Análise dos resultados para entender quais fatores mais influenciam a evasão.\n",
        "\n",
        "✅ Apresentação de conclusões práticas que ajudem na tomada de decisões estratégicas.\n",
        "\n",
        "**🛠 Ferramentas e Técnicas que serão aplicadas:**\n",
        "\n",
        "✅ Manipulação e preparação de dados para aprendizado de máquina\n",
        "\n",
        "✅ Desenvolvimento e comparação de modelos preditivos\n",
        "\n",
        "✅ Interpretação de resultados para gerar insights acionáveis\n",
        "\n",
        "✅ Comunicação clara e objetiva focada em resultados estratégicos"
      ],
      "metadata": {
        "id": "GAR3jgeMT2sQ"
      }
    },
    {
      "cell_type": "markdown",
      "source": [
        "# 📦 IMPORTAÇÃO DE BIBLIOTECAS E DADOS"
      ],
      "metadata": {
        "id": "ezf-98CqR2gY"
      }
    },
    {
      "cell_type": "code",
      "execution_count": 3,
      "metadata": {
        "colab": {
          "base_uri": "https://localhost:8080/",
          "height": 73
        },
        "id": "5dwkK5HhKi7k",
        "outputId": "bfcb1fa6-2de7-4783-b0f4-ae5d057483c9"
      },
      "outputs": [
        {
          "output_type": "display_data",
          "data": {
            "text/plain": [
              "<IPython.core.display.HTML object>"
            ],
            "text/html": [
              "\n",
              "     <input type=\"file\" id=\"files-5e82b5e1-e8e5-44b8-bdbc-645272187b16\" name=\"files[]\" multiple disabled\n",
              "        style=\"border:none\" />\n",
              "     <output id=\"result-5e82b5e1-e8e5-44b8-bdbc-645272187b16\">\n",
              "      Upload widget is only available when the cell has been executed in the\n",
              "      current browser session. Please rerun this cell to enable.\n",
              "      </output>\n",
              "      <script>// Copyright 2017 Google LLC\n",
              "//\n",
              "// Licensed under the Apache License, Version 2.0 (the \"License\");\n",
              "// you may not use this file except in compliance with the License.\n",
              "// You may obtain a copy of the License at\n",
              "//\n",
              "//      http://www.apache.org/licenses/LICENSE-2.0\n",
              "//\n",
              "// Unless required by applicable law or agreed to in writing, software\n",
              "// distributed under the License is distributed on an \"AS IS\" BASIS,\n",
              "// WITHOUT WARRANTIES OR CONDITIONS OF ANY KIND, either express or implied.\n",
              "// See the License for the specific language governing permissions and\n",
              "// limitations under the License.\n",
              "\n",
              "/**\n",
              " * @fileoverview Helpers for google.colab Python module.\n",
              " */\n",
              "(function(scope) {\n",
              "function span(text, styleAttributes = {}) {\n",
              "  const element = document.createElement('span');\n",
              "  element.textContent = text;\n",
              "  for (const key of Object.keys(styleAttributes)) {\n",
              "    element.style[key] = styleAttributes[key];\n",
              "  }\n",
              "  return element;\n",
              "}\n",
              "\n",
              "// Max number of bytes which will be uploaded at a time.\n",
              "const MAX_PAYLOAD_SIZE = 100 * 1024;\n",
              "\n",
              "function _uploadFiles(inputId, outputId) {\n",
              "  const steps = uploadFilesStep(inputId, outputId);\n",
              "  const outputElement = document.getElementById(outputId);\n",
              "  // Cache steps on the outputElement to make it available for the next call\n",
              "  // to uploadFilesContinue from Python.\n",
              "  outputElement.steps = steps;\n",
              "\n",
              "  return _uploadFilesContinue(outputId);\n",
              "}\n",
              "\n",
              "// This is roughly an async generator (not supported in the browser yet),\n",
              "// where there are multiple asynchronous steps and the Python side is going\n",
              "// to poll for completion of each step.\n",
              "// This uses a Promise to block the python side on completion of each step,\n",
              "// then passes the result of the previous step as the input to the next step.\n",
              "function _uploadFilesContinue(outputId) {\n",
              "  const outputElement = document.getElementById(outputId);\n",
              "  const steps = outputElement.steps;\n",
              "\n",
              "  const next = steps.next(outputElement.lastPromiseValue);\n",
              "  return Promise.resolve(next.value.promise).then((value) => {\n",
              "    // Cache the last promise value to make it available to the next\n",
              "    // step of the generator.\n",
              "    outputElement.lastPromiseValue = value;\n",
              "    return next.value.response;\n",
              "  });\n",
              "}\n",
              "\n",
              "/**\n",
              " * Generator function which is called between each async step of the upload\n",
              " * process.\n",
              " * @param {string} inputId Element ID of the input file picker element.\n",
              " * @param {string} outputId Element ID of the output display.\n",
              " * @return {!Iterable<!Object>} Iterable of next steps.\n",
              " */\n",
              "function* uploadFilesStep(inputId, outputId) {\n",
              "  const inputElement = document.getElementById(inputId);\n",
              "  inputElement.disabled = false;\n",
              "\n",
              "  const outputElement = document.getElementById(outputId);\n",
              "  outputElement.innerHTML = '';\n",
              "\n",
              "  const pickedPromise = new Promise((resolve) => {\n",
              "    inputElement.addEventListener('change', (e) => {\n",
              "      resolve(e.target.files);\n",
              "    });\n",
              "  });\n",
              "\n",
              "  const cancel = document.createElement('button');\n",
              "  inputElement.parentElement.appendChild(cancel);\n",
              "  cancel.textContent = 'Cancel upload';\n",
              "  const cancelPromise = new Promise((resolve) => {\n",
              "    cancel.onclick = () => {\n",
              "      resolve(null);\n",
              "    };\n",
              "  });\n",
              "\n",
              "  // Wait for the user to pick the files.\n",
              "  const files = yield {\n",
              "    promise: Promise.race([pickedPromise, cancelPromise]),\n",
              "    response: {\n",
              "      action: 'starting',\n",
              "    }\n",
              "  };\n",
              "\n",
              "  cancel.remove();\n",
              "\n",
              "  // Disable the input element since further picks are not allowed.\n",
              "  inputElement.disabled = true;\n",
              "\n",
              "  if (!files) {\n",
              "    return {\n",
              "      response: {\n",
              "        action: 'complete',\n",
              "      }\n",
              "    };\n",
              "  }\n",
              "\n",
              "  for (const file of files) {\n",
              "    const li = document.createElement('li');\n",
              "    li.append(span(file.name, {fontWeight: 'bold'}));\n",
              "    li.append(span(\n",
              "        `(${file.type || 'n/a'}) - ${file.size} bytes, ` +\n",
              "        `last modified: ${\n",
              "            file.lastModifiedDate ? file.lastModifiedDate.toLocaleDateString() :\n",
              "                                    'n/a'} - `));\n",
              "    const percent = span('0% done');\n",
              "    li.appendChild(percent);\n",
              "\n",
              "    outputElement.appendChild(li);\n",
              "\n",
              "    const fileDataPromise = new Promise((resolve) => {\n",
              "      const reader = new FileReader();\n",
              "      reader.onload = (e) => {\n",
              "        resolve(e.target.result);\n",
              "      };\n",
              "      reader.readAsArrayBuffer(file);\n",
              "    });\n",
              "    // Wait for the data to be ready.\n",
              "    let fileData = yield {\n",
              "      promise: fileDataPromise,\n",
              "      response: {\n",
              "        action: 'continue',\n",
              "      }\n",
              "    };\n",
              "\n",
              "    // Use a chunked sending to avoid message size limits. See b/62115660.\n",
              "    let position = 0;\n",
              "    do {\n",
              "      const length = Math.min(fileData.byteLength - position, MAX_PAYLOAD_SIZE);\n",
              "      const chunk = new Uint8Array(fileData, position, length);\n",
              "      position += length;\n",
              "\n",
              "      const base64 = btoa(String.fromCharCode.apply(null, chunk));\n",
              "      yield {\n",
              "        response: {\n",
              "          action: 'append',\n",
              "          file: file.name,\n",
              "          data: base64,\n",
              "        },\n",
              "      };\n",
              "\n",
              "      let percentDone = fileData.byteLength === 0 ?\n",
              "          100 :\n",
              "          Math.round((position / fileData.byteLength) * 100);\n",
              "      percent.textContent = `${percentDone}% done`;\n",
              "\n",
              "    } while (position < fileData.byteLength);\n",
              "  }\n",
              "\n",
              "  // All done.\n",
              "  yield {\n",
              "    response: {\n",
              "      action: 'complete',\n",
              "    }\n",
              "  };\n",
              "}\n",
              "\n",
              "scope.google = scope.google || {};\n",
              "scope.google.colab = scope.google.colab || {};\n",
              "scope.google.colab._files = {\n",
              "  _uploadFiles,\n",
              "  _uploadFilesContinue,\n",
              "};\n",
              "})(self);\n",
              "</script> "
            ]
          },
          "metadata": {}
        },
        {
          "output_type": "stream",
          "name": "stdout",
          "text": [
            "Saving telecomx_tratado.csv to telecomx_tratado.csv\n"
          ]
        }
      ],
      "source": [
        "from google.colab import files\n",
        "\n",
        "# Fazer upload do CSV tratado\n",
        "uploaded = files.upload()"
      ]
    },
    {
      "cell_type": "code",
      "source": [
        "import pandas as pd\n",
        "import numpy as np\n",
        "import matplotlib.pyplot as plt\n",
        "import seaborn as sns\n",
        "\n",
        "from sklearn.preprocessing import StandardScaler\n",
        "from sklearn.model_selection import train_test_split\n",
        "from sklearn.linear_model import LogisticRegression\n",
        "from sklearn.ensemble import RandomForestClassifier\n",
        "from sklearn.metrics import accuracy_score, precision_score, recall_score, f1_score, confusion_matrix, classification_report\n",
        "\n",
        "# Carregar os dados tratados (ajuste o caminho se necessário)\n",
        "df = pd.read_csv('telecomx_tratado.csv')\n",
        "\n",
        "print(\"Shape do dataset:\", df.shape)\n",
        "df.head()"
      ],
      "metadata": {
        "colab": {
          "base_uri": "https://localhost:8080/",
          "height": 359
        },
        "id": "NYSs7cRePhvJ",
        "outputId": "c1980a0e-aaa8-4bda-b949-ce3348d789cb"
      },
      "execution_count": 19,
      "outputs": [
        {
          "output_type": "stream",
          "name": "stdout",
          "text": [
            "Shape do dataset: (7256, 21)\n"
          ]
        },
        {
          "output_type": "execute_result",
          "data": {
            "text/plain": [
              "   customerID Churn  gender  SeniorCitizen Partner Dependents  tenure  \\\n",
              "0  0002-ORFBO    No  Female              0     Yes        Yes       9   \n",
              "1  0003-MKNFE    No    Male              0      No         No       9   \n",
              "2  0004-TLHLJ   Yes    Male              0      No         No       4   \n",
              "3  0011-IGKFF   Yes    Male              1     Yes         No      13   \n",
              "4  0013-EXCHZ   Yes  Female              1     Yes         No       3   \n",
              "\n",
              "  PhoneService MultipleLines InternetService  ... OnlineBackup  \\\n",
              "0          Yes            No             DSL  ...          Yes   \n",
              "1          Yes           Yes             DSL  ...           No   \n",
              "2          Yes            No     Fiber optic  ...           No   \n",
              "3          Yes            No     Fiber optic  ...          Yes   \n",
              "4          Yes            No     Fiber optic  ...           No   \n",
              "\n",
              "  DeviceProtection TechSupport StreamingTV StreamingMovies        Contract  \\\n",
              "0               No         Yes         Yes              No        One Year   \n",
              "1               No          No          No             Yes  Month-To-Month   \n",
              "2              Yes          No          No              No  Month-To-Month   \n",
              "3              Yes          No         Yes             Yes  Month-To-Month   \n",
              "4               No         Yes         Yes              No  Month-To-Month   \n",
              "\n",
              "  PaperlessBilling     PaymentMethod MonthlyCharges  TotalCharges  \n",
              "0              Yes      Mailed Check           65.6        593.30  \n",
              "1               No      Mailed Check           59.9        542.40  \n",
              "2              Yes  Electronic Check           73.9        280.85  \n",
              "3              Yes  Electronic Check           98.0       1237.85  \n",
              "4              Yes      Mailed Check           83.9        267.40  \n",
              "\n",
              "[5 rows x 21 columns]"
            ],
            "text/html": [
              "\n",
              "  <div id=\"df-d54b84d5-ca31-4313-93a9-c0f56615cac3\" class=\"colab-df-container\">\n",
              "    <div>\n",
              "<style scoped>\n",
              "    .dataframe tbody tr th:only-of-type {\n",
              "        vertical-align: middle;\n",
              "    }\n",
              "\n",
              "    .dataframe tbody tr th {\n",
              "        vertical-align: top;\n",
              "    }\n",
              "\n",
              "    .dataframe thead th {\n",
              "        text-align: right;\n",
              "    }\n",
              "</style>\n",
              "<table border=\"1\" class=\"dataframe\">\n",
              "  <thead>\n",
              "    <tr style=\"text-align: right;\">\n",
              "      <th></th>\n",
              "      <th>customerID</th>\n",
              "      <th>Churn</th>\n",
              "      <th>gender</th>\n",
              "      <th>SeniorCitizen</th>\n",
              "      <th>Partner</th>\n",
              "      <th>Dependents</th>\n",
              "      <th>tenure</th>\n",
              "      <th>PhoneService</th>\n",
              "      <th>MultipleLines</th>\n",
              "      <th>InternetService</th>\n",
              "      <th>...</th>\n",
              "      <th>OnlineBackup</th>\n",
              "      <th>DeviceProtection</th>\n",
              "      <th>TechSupport</th>\n",
              "      <th>StreamingTV</th>\n",
              "      <th>StreamingMovies</th>\n",
              "      <th>Contract</th>\n",
              "      <th>PaperlessBilling</th>\n",
              "      <th>PaymentMethod</th>\n",
              "      <th>MonthlyCharges</th>\n",
              "      <th>TotalCharges</th>\n",
              "    </tr>\n",
              "  </thead>\n",
              "  <tbody>\n",
              "    <tr>\n",
              "      <th>0</th>\n",
              "      <td>0002-ORFBO</td>\n",
              "      <td>No</td>\n",
              "      <td>Female</td>\n",
              "      <td>0</td>\n",
              "      <td>Yes</td>\n",
              "      <td>Yes</td>\n",
              "      <td>9</td>\n",
              "      <td>Yes</td>\n",
              "      <td>No</td>\n",
              "      <td>DSL</td>\n",
              "      <td>...</td>\n",
              "      <td>Yes</td>\n",
              "      <td>No</td>\n",
              "      <td>Yes</td>\n",
              "      <td>Yes</td>\n",
              "      <td>No</td>\n",
              "      <td>One Year</td>\n",
              "      <td>Yes</td>\n",
              "      <td>Mailed Check</td>\n",
              "      <td>65.6</td>\n",
              "      <td>593.30</td>\n",
              "    </tr>\n",
              "    <tr>\n",
              "      <th>1</th>\n",
              "      <td>0003-MKNFE</td>\n",
              "      <td>No</td>\n",
              "      <td>Male</td>\n",
              "      <td>0</td>\n",
              "      <td>No</td>\n",
              "      <td>No</td>\n",
              "      <td>9</td>\n",
              "      <td>Yes</td>\n",
              "      <td>Yes</td>\n",
              "      <td>DSL</td>\n",
              "      <td>...</td>\n",
              "      <td>No</td>\n",
              "      <td>No</td>\n",
              "      <td>No</td>\n",
              "      <td>No</td>\n",
              "      <td>Yes</td>\n",
              "      <td>Month-To-Month</td>\n",
              "      <td>No</td>\n",
              "      <td>Mailed Check</td>\n",
              "      <td>59.9</td>\n",
              "      <td>542.40</td>\n",
              "    </tr>\n",
              "    <tr>\n",
              "      <th>2</th>\n",
              "      <td>0004-TLHLJ</td>\n",
              "      <td>Yes</td>\n",
              "      <td>Male</td>\n",
              "      <td>0</td>\n",
              "      <td>No</td>\n",
              "      <td>No</td>\n",
              "      <td>4</td>\n",
              "      <td>Yes</td>\n",
              "      <td>No</td>\n",
              "      <td>Fiber optic</td>\n",
              "      <td>...</td>\n",
              "      <td>No</td>\n",
              "      <td>Yes</td>\n",
              "      <td>No</td>\n",
              "      <td>No</td>\n",
              "      <td>No</td>\n",
              "      <td>Month-To-Month</td>\n",
              "      <td>Yes</td>\n",
              "      <td>Electronic Check</td>\n",
              "      <td>73.9</td>\n",
              "      <td>280.85</td>\n",
              "    </tr>\n",
              "    <tr>\n",
              "      <th>3</th>\n",
              "      <td>0011-IGKFF</td>\n",
              "      <td>Yes</td>\n",
              "      <td>Male</td>\n",
              "      <td>1</td>\n",
              "      <td>Yes</td>\n",
              "      <td>No</td>\n",
              "      <td>13</td>\n",
              "      <td>Yes</td>\n",
              "      <td>No</td>\n",
              "      <td>Fiber optic</td>\n",
              "      <td>...</td>\n",
              "      <td>Yes</td>\n",
              "      <td>Yes</td>\n",
              "      <td>No</td>\n",
              "      <td>Yes</td>\n",
              "      <td>Yes</td>\n",
              "      <td>Month-To-Month</td>\n",
              "      <td>Yes</td>\n",
              "      <td>Electronic Check</td>\n",
              "      <td>98.0</td>\n",
              "      <td>1237.85</td>\n",
              "    </tr>\n",
              "    <tr>\n",
              "      <th>4</th>\n",
              "      <td>0013-EXCHZ</td>\n",
              "      <td>Yes</td>\n",
              "      <td>Female</td>\n",
              "      <td>1</td>\n",
              "      <td>Yes</td>\n",
              "      <td>No</td>\n",
              "      <td>3</td>\n",
              "      <td>Yes</td>\n",
              "      <td>No</td>\n",
              "      <td>Fiber optic</td>\n",
              "      <td>...</td>\n",
              "      <td>No</td>\n",
              "      <td>No</td>\n",
              "      <td>Yes</td>\n",
              "      <td>Yes</td>\n",
              "      <td>No</td>\n",
              "      <td>Month-To-Month</td>\n",
              "      <td>Yes</td>\n",
              "      <td>Mailed Check</td>\n",
              "      <td>83.9</td>\n",
              "      <td>267.40</td>\n",
              "    </tr>\n",
              "  </tbody>\n",
              "</table>\n",
              "<p>5 rows × 21 columns</p>\n",
              "</div>\n",
              "    <div class=\"colab-df-buttons\">\n",
              "\n",
              "  <div class=\"colab-df-container\">\n",
              "    <button class=\"colab-df-convert\" onclick=\"convertToInteractive('df-d54b84d5-ca31-4313-93a9-c0f56615cac3')\"\n",
              "            title=\"Convert this dataframe to an interactive table.\"\n",
              "            style=\"display:none;\">\n",
              "\n",
              "  <svg xmlns=\"http://www.w3.org/2000/svg\" height=\"24px\" viewBox=\"0 -960 960 960\">\n",
              "    <path d=\"M120-120v-720h720v720H120Zm60-500h600v-160H180v160Zm220 220h160v-160H400v160Zm0 220h160v-160H400v160ZM180-400h160v-160H180v160Zm440 0h160v-160H620v160ZM180-180h160v-160H180v160Zm440 0h160v-160H620v160Z\"/>\n",
              "  </svg>\n",
              "    </button>\n",
              "\n",
              "  <style>\n",
              "    .colab-df-container {\n",
              "      display:flex;\n",
              "      gap: 12px;\n",
              "    }\n",
              "\n",
              "    .colab-df-convert {\n",
              "      background-color: #E8F0FE;\n",
              "      border: none;\n",
              "      border-radius: 50%;\n",
              "      cursor: pointer;\n",
              "      display: none;\n",
              "      fill: #1967D2;\n",
              "      height: 32px;\n",
              "      padding: 0 0 0 0;\n",
              "      width: 32px;\n",
              "    }\n",
              "\n",
              "    .colab-df-convert:hover {\n",
              "      background-color: #E2EBFA;\n",
              "      box-shadow: 0px 1px 2px rgba(60, 64, 67, 0.3), 0px 1px 3px 1px rgba(60, 64, 67, 0.15);\n",
              "      fill: #174EA6;\n",
              "    }\n",
              "\n",
              "    .colab-df-buttons div {\n",
              "      margin-bottom: 4px;\n",
              "    }\n",
              "\n",
              "    [theme=dark] .colab-df-convert {\n",
              "      background-color: #3B4455;\n",
              "      fill: #D2E3FC;\n",
              "    }\n",
              "\n",
              "    [theme=dark] .colab-df-convert:hover {\n",
              "      background-color: #434B5C;\n",
              "      box-shadow: 0px 1px 3px 1px rgba(0, 0, 0, 0.15);\n",
              "      filter: drop-shadow(0px 1px 2px rgba(0, 0, 0, 0.3));\n",
              "      fill: #FFFFFF;\n",
              "    }\n",
              "  </style>\n",
              "\n",
              "    <script>\n",
              "      const buttonEl =\n",
              "        document.querySelector('#df-d54b84d5-ca31-4313-93a9-c0f56615cac3 button.colab-df-convert');\n",
              "      buttonEl.style.display =\n",
              "        google.colab.kernel.accessAllowed ? 'block' : 'none';\n",
              "\n",
              "      async function convertToInteractive(key) {\n",
              "        const element = document.querySelector('#df-d54b84d5-ca31-4313-93a9-c0f56615cac3');\n",
              "        const dataTable =\n",
              "          await google.colab.kernel.invokeFunction('convertToInteractive',\n",
              "                                                    [key], {});\n",
              "        if (!dataTable) return;\n",
              "\n",
              "        const docLinkHtml = 'Like what you see? Visit the ' +\n",
              "          '<a target=\"_blank\" href=https://colab.research.google.com/notebooks/data_table.ipynb>data table notebook</a>'\n",
              "          + ' to learn more about interactive tables.';\n",
              "        element.innerHTML = '';\n",
              "        dataTable['output_type'] = 'display_data';\n",
              "        await google.colab.output.renderOutput(dataTable, element);\n",
              "        const docLink = document.createElement('div');\n",
              "        docLink.innerHTML = docLinkHtml;\n",
              "        element.appendChild(docLink);\n",
              "      }\n",
              "    </script>\n",
              "  </div>\n",
              "\n",
              "\n",
              "    <div id=\"df-fd426c00-85b1-4614-a391-678c03e87680\">\n",
              "      <button class=\"colab-df-quickchart\" onclick=\"quickchart('df-fd426c00-85b1-4614-a391-678c03e87680')\"\n",
              "                title=\"Suggest charts\"\n",
              "                style=\"display:none;\">\n",
              "\n",
              "<svg xmlns=\"http://www.w3.org/2000/svg\" height=\"24px\"viewBox=\"0 0 24 24\"\n",
              "     width=\"24px\">\n",
              "    <g>\n",
              "        <path d=\"M19 3H5c-1.1 0-2 .9-2 2v14c0 1.1.9 2 2 2h14c1.1 0 2-.9 2-2V5c0-1.1-.9-2-2-2zM9 17H7v-7h2v7zm4 0h-2V7h2v10zm4 0h-2v-4h2v4z\"/>\n",
              "    </g>\n",
              "</svg>\n",
              "      </button>\n",
              "\n",
              "<style>\n",
              "  .colab-df-quickchart {\n",
              "      --bg-color: #E8F0FE;\n",
              "      --fill-color: #1967D2;\n",
              "      --hover-bg-color: #E2EBFA;\n",
              "      --hover-fill-color: #174EA6;\n",
              "      --disabled-fill-color: #AAA;\n",
              "      --disabled-bg-color: #DDD;\n",
              "  }\n",
              "\n",
              "  [theme=dark] .colab-df-quickchart {\n",
              "      --bg-color: #3B4455;\n",
              "      --fill-color: #D2E3FC;\n",
              "      --hover-bg-color: #434B5C;\n",
              "      --hover-fill-color: #FFFFFF;\n",
              "      --disabled-bg-color: #3B4455;\n",
              "      --disabled-fill-color: #666;\n",
              "  }\n",
              "\n",
              "  .colab-df-quickchart {\n",
              "    background-color: var(--bg-color);\n",
              "    border: none;\n",
              "    border-radius: 50%;\n",
              "    cursor: pointer;\n",
              "    display: none;\n",
              "    fill: var(--fill-color);\n",
              "    height: 32px;\n",
              "    padding: 0;\n",
              "    width: 32px;\n",
              "  }\n",
              "\n",
              "  .colab-df-quickchart:hover {\n",
              "    background-color: var(--hover-bg-color);\n",
              "    box-shadow: 0 1px 2px rgba(60, 64, 67, 0.3), 0 1px 3px 1px rgba(60, 64, 67, 0.15);\n",
              "    fill: var(--button-hover-fill-color);\n",
              "  }\n",
              "\n",
              "  .colab-df-quickchart-complete:disabled,\n",
              "  .colab-df-quickchart-complete:disabled:hover {\n",
              "    background-color: var(--disabled-bg-color);\n",
              "    fill: var(--disabled-fill-color);\n",
              "    box-shadow: none;\n",
              "  }\n",
              "\n",
              "  .colab-df-spinner {\n",
              "    border: 2px solid var(--fill-color);\n",
              "    border-color: transparent;\n",
              "    border-bottom-color: var(--fill-color);\n",
              "    animation:\n",
              "      spin 1s steps(1) infinite;\n",
              "  }\n",
              "\n",
              "  @keyframes spin {\n",
              "    0% {\n",
              "      border-color: transparent;\n",
              "      border-bottom-color: var(--fill-color);\n",
              "      border-left-color: var(--fill-color);\n",
              "    }\n",
              "    20% {\n",
              "      border-color: transparent;\n",
              "      border-left-color: var(--fill-color);\n",
              "      border-top-color: var(--fill-color);\n",
              "    }\n",
              "    30% {\n",
              "      border-color: transparent;\n",
              "      border-left-color: var(--fill-color);\n",
              "      border-top-color: var(--fill-color);\n",
              "      border-right-color: var(--fill-color);\n",
              "    }\n",
              "    40% {\n",
              "      border-color: transparent;\n",
              "      border-right-color: var(--fill-color);\n",
              "      border-top-color: var(--fill-color);\n",
              "    }\n",
              "    60% {\n",
              "      border-color: transparent;\n",
              "      border-right-color: var(--fill-color);\n",
              "    }\n",
              "    80% {\n",
              "      border-color: transparent;\n",
              "      border-right-color: var(--fill-color);\n",
              "      border-bottom-color: var(--fill-color);\n",
              "    }\n",
              "    90% {\n",
              "      border-color: transparent;\n",
              "      border-bottom-color: var(--fill-color);\n",
              "    }\n",
              "  }\n",
              "</style>\n",
              "\n",
              "      <script>\n",
              "        async function quickchart(key) {\n",
              "          const quickchartButtonEl =\n",
              "            document.querySelector('#' + key + ' button');\n",
              "          quickchartButtonEl.disabled = true;  // To prevent multiple clicks.\n",
              "          quickchartButtonEl.classList.add('colab-df-spinner');\n",
              "          try {\n",
              "            const charts = await google.colab.kernel.invokeFunction(\n",
              "                'suggestCharts', [key], {});\n",
              "          } catch (error) {\n",
              "            console.error('Error during call to suggestCharts:', error);\n",
              "          }\n",
              "          quickchartButtonEl.classList.remove('colab-df-spinner');\n",
              "          quickchartButtonEl.classList.add('colab-df-quickchart-complete');\n",
              "        }\n",
              "        (() => {\n",
              "          let quickchartButtonEl =\n",
              "            document.querySelector('#df-fd426c00-85b1-4614-a391-678c03e87680 button');\n",
              "          quickchartButtonEl.style.display =\n",
              "            google.colab.kernel.accessAllowed ? 'block' : 'none';\n",
              "        })();\n",
              "      </script>\n",
              "    </div>\n",
              "\n",
              "    </div>\n",
              "  </div>\n"
            ],
            "application/vnd.google.colaboratory.intrinsic+json": {
              "type": "dataframe",
              "variable_name": "df"
            }
          },
          "metadata": {},
          "execution_count": 19
        }
      ]
    },
    {
      "cell_type": "markdown",
      "source": [
        "# 🛠️ PRÉ-PROCESSAMENTO DE DADOS\n",
        "\n"
      ],
      "metadata": {
        "id": "AgNk_fP8PkuK"
      }
    },
    {
      "cell_type": "code",
      "source": [
        "# Removendo coluna 'customerID' caso exista\n",
        "if 'customerID' in df.columns:\n",
        "    df = df.drop('customerID', axis=1)\n",
        "\n",
        "# Verificando valores nulos na coluna Churn e removendo-os\n",
        "print(\"Valores nulos em 'Churn':\", df['Churn'].isnull().sum())\n",
        "df = df.dropna(subset=['Churn'])\n",
        "\n",
        "# Convertendo Churn para binário\n",
        "df['Churn'] = df['Churn'].map({'No': 0, 'Yes': 1})\n",
        "print(\"Valores únicos em 'Churn':\", df['Churn'].unique())\n",
        "\n",
        "# Identificando colunas categóricas\n",
        "cat_cols = df.select_dtypes(include=['object']).columns.tolist()\n",
        "print(\"Colunas categóricas:\", cat_cols)\n",
        "\n",
        "# Aplicando one-hot encoding nas categóricas\n",
        "df_encoded = pd.get_dummies(df, columns=cat_cols, drop_first=True)\n",
        "print(\"Shape após encoding:\", df_encoded.shape)\n",
        "\n",
        "# Separando features e target\n",
        "X = df_encoded.drop('Churn', axis=1)\n",
        "y = df_encoded['Churn']\n",
        "\n",
        "# Normalizando colunas numéricas\n",
        "num_cols = ['SeniorCitizen', 'tenure', 'MonthlyCharges', 'TotalCharges']\n",
        "scaler = StandardScaler()\n",
        "X[num_cols] = scaler.fit_transform(X[num_cols])\n",
        "\n",
        "print(\"Shape X:\", X.shape)\n",
        "print(\"Shape y:\", y.shape)\n"
      ],
      "metadata": {
        "colab": {
          "base_uri": "https://localhost:8080/"
        },
        "id": "KwM8C_IIPkZp",
        "outputId": "d10d4d44-83e0-4031-94a6-3387b6e39c1c"
      },
      "execution_count": 20,
      "outputs": [
        {
          "output_type": "stream",
          "name": "stdout",
          "text": [
            "Valores nulos em 'Churn': 224\n",
            "Valores únicos em 'Churn': [0 1]\n",
            "Colunas categóricas: ['gender', 'Partner', 'Dependents', 'PhoneService', 'MultipleLines', 'InternetService', 'OnlineSecurity', 'OnlineBackup', 'DeviceProtection', 'TechSupport', 'StreamingTV', 'StreamingMovies', 'Contract', 'PaperlessBilling', 'PaymentMethod']\n",
            "Shape após encoding: (7032, 31)\n",
            "Shape X: (7032, 30)\n",
            "Shape y: (7032,)\n"
          ]
        }
      ]
    },
    {
      "cell_type": "code",
      "source": [
        "# =====================================\n",
        "# 📊 2.1. Taxa de Cancelamento e Gráfico\n",
        "# =====================================\n",
        "\n",
        "# Cálculo da taxa de churn\n",
        "total_clientes_validos = len(df)  # já sem customerID e valores nulos de churn\n",
        "clientes_cancelaram = df['Churn'].sum()  # pois Yes=1\n",
        "churn_rate = (clientes_cancelaram / total_clientes_validos) * 100\n",
        "\n",
        "print(f\"📊 Taxa de Cancelamento (Churn Rate): {churn_rate:.2f}%\")\n",
        "\n",
        "# Gráfico de pizza\n",
        "plt.figure(figsize=(6, 6))\n",
        "df['Churn'].value_counts().plot(\n",
        "    kind='pie',\n",
        "    autopct='%1.1f%%',\n",
        "    startangle=90,\n",
        "    labels=['Não Cancelaram', 'Cancelaram'],\n",
        "    colors=['#66b3ff', '#ff9999']\n",
        ")\n",
        "plt.title('Proporção de Cancelamentos na Base de Clientes')\n",
        "plt.ylabel('')\n",
        "plt.show()"
      ],
      "metadata": {
        "colab": {
          "base_uri": "https://localhost:8080/",
          "height": 538
        },
        "id": "LAMD89lsZ80-",
        "outputId": "a5f91756-3098-4d27-bc0a-81469640cb9a"
      },
      "execution_count": 32,
      "outputs": [
        {
          "output_type": "stream",
          "name": "stdout",
          "text": [
            "📊 Taxa de Cancelamento (Churn Rate): 26.58%\n"
          ]
        },
        {
          "output_type": "display_data",
          "data": {
            "text/plain": [
              "<Figure size 600x600 with 1 Axes>"
            ],
            "image/png": "[encoded data removed]"
          },
          "metadata": {}
        }
      ]
    },
    {
      "cell_type": "markdown",
      "source": [
        "# 📊  ANÁLISE DE CORRELAÇÃO"
      ],
      "metadata": {
        "id": "0CXi1O3mP7Jx"
      }
    },
    {
      "cell_type": "code",
      "source": [
        "plt.figure(figsize=(12,10))\n",
        "corr = df_encoded.corr()['Churn'].sort_values(ascending=False)\n",
        "sns.barplot(x=corr.values[1:20], y=corr.index[1:20], palette='viridis')\n",
        "plt.title(\"Top 20 variáveis correlacionadas com Churn\")\n",
        "plt.show()\n"
      ],
      "metadata": {
        "colab": {
          "base_uri": "https://localhost:8080/",
          "height": 781
        },
        "id": "XWLvII78P60Z",
        "outputId": "f718e315-82da-47b8-86db-6bcb39040226"
      },
      "execution_count": 33,
      "outputs": [
        {
          "output_type": "display_data",
          "data": {
            "text/plain": [
              "<Figure size 1200x1000 with 1 Axes>"
            ],
            "image/png": "[encoded data removed]"
          },
          "metadata": {}
        }
      ]
    },
    {
      "cell_type": "markdown",
      "source": [
        "# 🎯 SELEÇÃO DE VARIÁVEIS"
      ],
      "metadata": {
        "id": "FYxl77-nQM1x"
      }
    },
    {
      "cell_type": "code",
      "source": [
        "limiar = 0.1\n",
        "selecionadas = corr[abs(corr) > limiar].index.drop('Churn')\n",
        "print(f\"Variáveis selecionadas (correlação > {limiar}):\")\n",
        "print(selecionadas.tolist())\n",
        "\n",
        "X = X[selecionadas]\n",
        "print(\"Shape de X após seleção:\", X.shape)\n"
      ],
      "metadata": {
        "colab": {
          "base_uri": "https://localhost:8080/"
        },
        "id": "M3ewRiX6P4oR",
        "outputId": "7f944175-811c-48a4-ac83-52bbb36e018f"
      },
      "execution_count": 22,
      "outputs": [
        {
          "output_type": "stream",
          "name": "stdout",
          "text": [
            "Variáveis selecionadas (correlação > 0.1):\n",
            "['InternetService_Fiber optic', 'PaymentMethod_Electronic Check', 'MonthlyCharges', 'PaperlessBilling_Yes', 'SeniorCitizen', 'PaymentMethod_Credit Card (Automatic)', 'Partner_Yes', 'Dependents_Yes', 'TechSupport_Yes', 'OnlineSecurity_Yes', 'Contract_One Year', 'TotalCharges', 'InternetService_No', 'StreamingTV_No internet service', 'OnlineSecurity_No internet service', 'OnlineBackup_No internet service', 'DeviceProtection_No internet service', 'StreamingMovies_No internet service', 'TechSupport_No internet service', 'Contract_Two Year', 'tenure']\n",
            "Shape de X após seleção: (7032, 21)\n"
          ]
        }
      ]
    },
    {
      "cell_type": "markdown",
      "source": [
        "# ✂️ DIVISÃO TREINO E TESTE"
      ],
      "metadata": {
        "id": "rCVO4rjWQZZx"
      }
    },
    {
      "cell_type": "code",
      "source": [
        "X_train, X_test, y_train, y_test = train_test_split(\n",
        "    X, y, test_size=0.3, random_state=42, stratify=y\n",
        ")\n",
        "\n",
        "print(\"Tamanho treino:\", X_train.shape)\n",
        "print(\"Tamanho teste:\", X_test.shape)\n"
      ],
      "metadata": {
        "colab": {
          "base_uri": "https://localhost:8080/"
        },
        "id": "wY8_7KGmQiah",
        "outputId": "76b0b4f9-5355-4263-ba1b-45190dd943e7"
      },
      "execution_count": 23,
      "outputs": [
        {
          "output_type": "stream",
          "name": "stdout",
          "text": [
            "Tamanho treino: (4922, 21)\n",
            "Tamanho teste: (2110, 21)\n"
          ]
        }
      ]
    },
    {
      "cell_type": "markdown",
      "source": [
        "# 🤖 TREINAMENTO DE MODELOS"
      ],
      "metadata": {
        "id": "QYqr3pzQP5u5"
      }
    },
    {
      "cell_type": "code",
      "source": [
        "logreg = LogisticRegression(max_iter=500, random_state=42)\n",
        "logreg.fit(X_train, y_train)\n",
        "\n",
        "rf = RandomForestClassifier(n_estimators=100, random_state=42)\n",
        "rf.fit(X_train, y_train)\n",
        "\n",
        "print(\"Modelos treinados com sucesso!\")\n"
      ],
      "metadata": {
        "colab": {
          "base_uri": "https://localhost:8080/"
        },
        "id": "1rwUlI19Qyag",
        "outputId": "1d505c7a-d955-4fd6-b9f2-c3618247a3d9"
      },
      "execution_count": 24,
      "outputs": [
        {
          "output_type": "stream",
          "name": "stdout",
          "text": [
            "Modelos treinados com sucesso!\n"
          ]
        }
      ]
    },
    {
      "cell_type": "markdown",
      "source": [
        "# 📈 AVALIAÇÃO DOS MODELOS"
      ],
      "metadata": {
        "id": "UROXu7YXRAkZ"
      }
    },
    {
      "cell_type": "code",
      "source": [
        "def avalia_modelo(modelo, X_test, y_test, nome):\n",
        "    y_pred = modelo.predict(X_test)\n",
        "    print(f\"--- Avaliação do modelo: {nome} ---\")\n",
        "    print(\"Accuracy:\", accuracy_score(y_test, y_pred))\n",
        "    print(\"Precision:\", precision_score(y_test, y_pred))\n",
        "    print(\"Recall:\", recall_score(y_test, y_pred))\n",
        "    print(\"F1-score:\", f1_score(y_test, y_pred))\n",
        "    print(\"Matriz de Confusão:\\n\", confusion_matrix(y_test, y_pred))\n",
        "    print(classification_report(y_test, y_pred))\n",
        "\n",
        "avalia_modelo(logreg, X_test, y_test, \"Regressão Logística\")\n",
        "avalia_modelo(rf, X_test, y_test, \"Random Forest\")\n"
      ],
      "metadata": {
        "colab": {
          "base_uri": "https://localhost:8080/"
        },
        "id": "k49gGbMHQ6uA",
        "outputId": "5a1e7497-1f82-4fff-c7ad-fe92cb46cf1d"
      },
      "execution_count": 25,
      "outputs": [
        {
          "output_type": "stream",
          "name": "stdout",
          "text": [
            "--- Avaliação do modelo: Regressão Logística ---\n",
            "Accuracy: 0.7962085308056872\n",
            "Precision: 0.6414686825053996\n",
            "Recall: 0.5294117647058824\n",
            "F1-score: 0.580078125\n",
            "Matriz de Confusão:\n",
            " [[1383  166]\n",
            " [ 264  297]]\n",
            "              precision    recall  f1-score   support\n",
            "\n",
            "           0       0.84      0.89      0.87      1549\n",
            "           1       0.64      0.53      0.58       561\n",
            "\n",
            "    accuracy                           0.80      2110\n",
            "   macro avg       0.74      0.71      0.72      2110\n",
            "weighted avg       0.79      0.80      0.79      2110\n",
            "\n",
            "--- Avaliação do modelo: Random Forest ---\n",
            "Accuracy: 0.7781990521327015\n",
            "Precision: 0.6083916083916084\n",
            "Recall: 0.46524064171123\n",
            "F1-score: 0.5272727272727272\n",
            "Matriz de Confusão:\n",
            " [[1381  168]\n",
            " [ 300  261]]\n",
            "              precision    recall  f1-score   support\n",
            "\n",
            "           0       0.82      0.89      0.86      1549\n",
            "           1       0.61      0.47      0.53       561\n",
            "\n",
            "    accuracy                           0.78      2110\n",
            "   macro avg       0.71      0.68      0.69      2110\n",
            "weighted avg       0.76      0.78      0.77      2110\n",
            "\n"
          ]
        }
      ]
    },
    {
      "cell_type": "markdown",
      "source": [
        "# 🔑 RANDOM FOREST (Importância das variáveis)"
      ],
      "metadata": {
        "id": "yP7O0-OkRFnQ"
      }
    },
    {
      "cell_type": "code",
      "source": [
        "importances = pd.Series(rf.feature_importances_, index=X.columns).sort_values(ascending=False)\n",
        "\n",
        "plt.figure(figsize=(12,8))\n",
        "sns.barplot(x=importances.values[:15], y=importances.index[:15], palette='magma')\n",
        "plt.title(\"Top 15 variáveis mais importantes - Random Forest\")\n",
        "plt.show()\n",
        "\n",
        "print(importances.head(15))\n"
      ],
      "metadata": {
        "colab": {
          "base_uri": "https://localhost:8080/",
          "height": 918
        },
        "id": "D0_BNaP0RKqp",
        "outputId": "71f67c49-2823-4e99-b274-4b08a4405616"
      },
      "execution_count": 26,
      "outputs": [
        {
          "output_type": "display_data",
          "data": {
            "text/plain": [
              "<Figure size 1200x800 with 1 Axes>"
            ],
            "image/png": "[encoded data removed]"
          },
          "metadata": {}
        },
        {
          "output_type": "stream",
          "name": "stdout",
          "text": [
            "TotalCharges                             0.242892\n",
            "MonthlyCharges                           0.222764\n",
            "tenure                                   0.196998\n",
            "PaymentMethod_Electronic Check           0.045265\n",
            "InternetService_Fiber optic              0.043815\n",
            "Contract_Two Year                        0.032009\n",
            "TechSupport_Yes                          0.026108\n",
            "PaperlessBilling_Yes                     0.025257\n",
            "OnlineSecurity_Yes                       0.025200\n",
            "Contract_One Year                        0.023554\n",
            "Partner_Yes                              0.023372\n",
            "SeniorCitizen                            0.020431\n",
            "Dependents_Yes                           0.020295\n",
            "PaymentMethod_Credit Card (Automatic)    0.015429\n",
            "DeviceProtection_No internet service     0.007645\n",
            "dtype: float64\n"
          ]
        }
      ]
    },
    {
      "cell_type": "markdown",
      "source": [
        "# 📝 CONCLUSÃO ESTRATÉGICA\n"
      ],
      "metadata": {
        "id": "VDLaQxeMRTlI"
      }
    },
    {
      "cell_type": "code",
      "source": [
        "# =====================================\n",
        "# 📝 7. Conclusão Estratégica\n",
        "# =====================================\n",
        "print(\"\\n\" + \"=\"*60)\n",
        "print(\"📝 CONCLUSÃO ESTRATÉGICA\")\n",
        "print(\"=\"*60)\n",
        "\n",
        "print(\"\"\"\n",
        "🔍 Visão Geral:\n",
        "Com a aplicação dos modelos de Machine Learning (Regressão Logística e Random Forest),\n",
        "foi possível criar um sistema de predição capaz de identificar clientes com maior\n",
        "probabilidade de cancelar seus serviços na Telecom X.\n",
        "\n",
        "📊 Desempenho:\n",
        "- Regressão Logística: útil para interpretar variáveis e padrões lineares.\n",
        "- Random Forest: capturou relações complexas e destacou fatores-chave para o churn.\n",
        "\n",
        "🚦 Principais Fatores de Evasão:\n",
        "- Tipo de contrato (Month-to-month → maior chance de churn).\n",
        "- Tempo de permanência reduzido.\n",
        "- Cobrança mensal mais alta.\n",
        "- Serviços adicionais ajudam a reter clientes.\n",
        "\n",
        "💡 Recomendações:\n",
        "- Incentivar contratos de longo prazo.\n",
        "- Criar programas de fidelidade para novos clientes.\n",
        "- Ajustar preços e pacotes de alto valor.\n",
        "- Destacar benefícios de serviços adicionais.\n",
        "\n",
        "🚀 Impacto:\n",
        "Com estas ações, a Telecom X pode atuar de forma proativa,\n",
        "reduzindo a evasão, aumentando a satisfação e fidelizando clientes\n",
        "no médio e longo prazo.\n",
        "\"\"\")\n",
        "print(\"=\"*60)"
      ],
      "metadata": {
        "colab": {
          "base_uri": "https://localhost:8080/"
        },
        "id": "WhVYJQbjUrlO",
        "outputId": "2f82361d-bb13-4294-8576-988415d7de0e"
      },
      "execution_count": 31,
      "outputs": [
        {
          "output_type": "stream",
          "name": "stdout",
          "text": [
            "\n",
            "============================================================\n",
            "📝 CONCLUSÃO ESTRATÉGICA\n",
            "============================================================\n",
            "\n",
            "🔍 Visão Geral:\n",
            "Com a aplicação dos modelos de Machine Learning (Regressão Logística e Random Forest),\n",
            "foi possível criar um sistema de predição capaz de identificar clientes com maior\n",
            "probabilidade de cancelar seus serviços na Telecom X.\n",
            "\n",
            "📊 Desempenho:\n",
            "- Regressão Logística: útil para interpretar variáveis e padrões lineares.\n",
            "- Random Forest: capturou relações complexas e destacou fatores-chave para o churn.\n",
            "\n",
            "🚦 Principais Fatores de Evasão:\n",
            "- Tipo de contrato (Month-to-month → maior chance de churn).\n",
            "- Tempo de permanência reduzido.\n",
            "- Cobrança mensal mais alta.\n",
            "- Serviços adicionais ajudam a reter clientes.\n",
            "\n",
            "💡 Recomendações:\n",
            "- Incentivar contratos de longo prazo.\n",
            "- Criar programas de fidelidade para novos clientes.\n",
            "- Ajustar preços e pacotes de alto valor.\n",
            "- Destacar benefícios de serviços adicionais.\n",
            "\n",
            "🚀 Impacto:\n",
            "Com estas ações, a Telecom X pode atuar de forma proativa,\n",
            "reduzindo a evasão, aumentando a satisfação e fidelizando clientes\n",
            "no médio e longo prazo.\n",
            "\n",
            "============================================================\n"
          ]
        }
      ]
    }
  ]
}